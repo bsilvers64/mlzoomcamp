{
 "cells": [
  {
   "cell_type": "code",
   "execution_count": 134,
   "metadata": {},
   "outputs": [
    {
     "data": {
      "text/plain": [
       "'1.23.3'"
      ]
     },
     "execution_count": 134,
     "metadata": {},
     "output_type": "execute_result"
    }
   ],
   "source": [
    "import numpy as np\n",
    "import pandas as pd\n",
    "\n",
    "df = pd.read_csv(\"data.csv\")\n",
    "np.__version__"
   ]
  },
  {
   "cell_type": "code",
   "execution_count": 135,
   "metadata": {
    "pycharm": {
     "name": "#%%\n"
    }
   },
   "outputs": [
    {
     "data": {
      "text/plain": [
       "11914"
      ]
     },
     "execution_count": 135,
     "metadata": {},
     "output_type": "execute_result"
    }
   ],
   "source": [
    "#  number of records in the dataset\n",
    "\n",
    "#df.head()\n",
    "len(df)"
   ]
  },
  {
   "cell_type": "code",
   "execution_count": 136,
   "metadata": {
    "pycharm": {
     "name": "#%%\n"
    }
   },
   "outputs": [
    {
     "data": {
      "text/plain": [
       "Make\n",
       "Chevrolet     1123\n",
       "Ford           881\n",
       "Volkswagen     809\n",
       "Name: Model, dtype: int64"
      ]
     },
     "execution_count": 136,
     "metadata": {},
     "output_type": "execute_result"
    }
   ],
   "source": [
    "#  most frequent car manufacturers\n",
    "\n",
    "df.groupby(['Make'])['Model'].count().sort_values(ascending=False).head(3)"
   ]
  },
  {
   "cell_type": "code",
   "execution_count": 137,
   "metadata": {
    "pycharm": {
     "name": "#%%\n"
    }
   },
   "outputs": [
    {
     "name": "stdout",
     "output_type": "stream",
     "text": [
      "number of unique car models by Audi:  34\n"
     ]
    }
   ],
   "source": [
    "#  number of unique Audi car models in the dataset\n",
    "\n",
    "print(f\"number of unique car models by Audi: \",df.groupby(['Make'])['Model'].unique()['Audi'].size)"
   ]
  },
  {
   "cell_type": "code",
   "execution_count": 138,
   "metadata": {
    "pycharm": {
     "name": "#%%\n"
    }
   },
   "outputs": [
    {
     "name": "stdout",
     "output_type": "stream",
     "text": [
      "number of columns with null values:  5\n"
     ]
    }
   ],
   "source": [
    "#  columns in the dataset have missing values\n",
    "\n",
    "# df.isnull().any()\n",
    "# df.isnull().sum()\n",
    "\n",
    "print(f\"number of columns with null values: \", df.isnull().any().value_counts()[1])\n",
    "\n"
   ]
  },
  {
   "cell_type": "code",
   "execution_count": 139,
   "metadata": {
    "pycharm": {
     "name": "#%%\n"
    }
   },
   "outputs": [
    {
     "name": "stdout",
     "output_type": "stream",
     "text": [
      "median with null values:  6.0\n",
      "most frequent value in column 'Engine Cylinders':  4.0\n",
      "total null values in column 'Engine Cylinders':  30\n",
      "median after replaceing null values with most frequent value:  6.0\n"
     ]
    }
   ],
   "source": [
    "# task 6 -\n",
    "\n",
    "print(f\"median with null values: \",df['Engine Cylinders'].median())\n",
    "\n",
    "most_frequent_ec = df['Engine Cylinders'].mode()\n",
    "print(f\"most frequent value in column 'Engine Cylinders': \",most_frequent_ec[0])\n",
    "\n",
    "print(f\"total null values in column 'Engine Cylinders': \",df['Engine Cylinders'].isna().sum())\n",
    "\n",
    "\n",
    "df['Engine Cylinders'].fillna(most_frequent_ec[0], inplace = True)\n",
    "\n",
    "print(f\"median after replaceing null values with most frequent value: \", df['Engine Cylinders'].median())"
   ]
  },
  {
   "cell_type": "code",
   "execution_count": 140,
   "metadata": {},
   "outputs": [
    {
     "name": "stdout",
     "output_type": "stream",
     "text": [
      "the result is:  4.594944810094551\n"
     ]
    }
   ],
   "source": [
    "# task 7 -\n",
    "\n",
    "df2 = df[df.Make == 'Lotus']\n",
    "df2 = df2[['Engine HP', 'Engine Cylinders']]\n",
    "df2.drop_duplicates(inplace=True)\n",
    "x = df2.to_numpy()\n",
    "\n",
    "# xtx = x @ x.T\n",
    "xtx = np.matmul(x.T, x)\n",
    "y = np.array([1100, 800, 750, 850, 1300, 1000, 1000, 1300, 800])\n",
    "\n",
    "\n",
    "xtx_invert = np.linalg.inv(xtx)\n",
    "w = xtx_invert @ x.T\n",
    "w = w @ y\n",
    "print(f\"the result is: \",w[0])"
   ]
  }
 ],
 "metadata": {
  "kernelspec": {
   "display_name": "Python 3",
   "language": "python",
   "name": "python3"
  },
  "language_info": {
   "codemirror_mode": {
    "name": "ipython",
    "version": 3
   },
   "file_extension": ".py",
   "mimetype": "text/x-python",
   "name": "python",
   "nbconvert_exporter": "python",
   "pygments_lexer": "ipython3",
   "version": "3.9.1"
  }
 },
 "nbformat": 4,
 "nbformat_minor": 1
}
